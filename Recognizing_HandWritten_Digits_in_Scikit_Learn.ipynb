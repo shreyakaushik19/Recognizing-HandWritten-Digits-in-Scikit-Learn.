{
  "nbformat": 4,
  "nbformat_minor": 0,
  "metadata": {
    "colab": {
      "provenance": [],
      "include_colab_link": true
    },
    "kernelspec": {
      "name": "python3",
      "display_name": "Python 3"
    },
    "language_info": {
      "name": "python"
    }
  },
  "cells": [
    {
      "cell_type": "markdown",
      "metadata": {
        "id": "view-in-github",
        "colab_type": "text"
      },
      "source": [
        "<a href=\"https://colab.research.google.com/github/shreyakaushik19/Recognizing-HandWritten-Digits-in-Scikit-Learn./blob/main/Recognizing_HandWritten_Digits_in_Scikit_Learn.ipynb\" target=\"_parent\"><img src=\"https://colab.research.google.com/assets/colab-badge.svg\" alt=\"Open In Colab\"/></a>"
      ]
    },
    {
      "cell_type": "code",
      "execution_count": null,
      "metadata": {
        "colab": {
          "base_uri": "https://localhost:8080/"
        },
        "id": "ico1tqvCS2Ld",
        "outputId": "de5d8629-dfc0-4017-fbf5-1d2239b55b14"
      },
      "outputs": [
        {
          "output_type": "execute_result",
          "data": {
            "text/plain": [
              "['DESCR', 'data', 'feature_names', 'frame', 'images', 'target', 'target_names']"
            ]
          },
          "metadata": {},
          "execution_count": 1
        }
      ],
      "source": [
        "# importing the hand written digit dataset\n",
        "from sklearn import datasets\n",
        "\n",
        "# digit contain the dataset\n",
        "digits = datasets.load_digits()\n",
        "\n",
        "# dir function use to display the attributes of the dataset\n",
        "dir(digits)\n"
      ]
    },
    {
      "cell_type": "code",
      "source": [
        "# outputting the picture value as a series of numbers\n",
        "print(digits.images[0])\n"
      ],
      "metadata": {
        "colab": {
          "base_uri": "https://localhost:8080/"
        },
        "id": "tsVtHOtUS4dl",
        "outputId": "963de2ba-3ea6-45f7-b187-6958b481069d"
      },
      "execution_count": null,
      "outputs": [
        {
          "output_type": "stream",
          "name": "stdout",
          "text": [
            "[[ 0.  0.  5. 13.  9.  1.  0.  0.]\n",
            " [ 0.  0. 13. 15. 10. 15.  5.  0.]\n",
            " [ 0.  3. 15.  2.  0. 11.  8.  0.]\n",
            " [ 0.  4. 12.  0.  0.  8.  8.  0.]\n",
            " [ 0.  5.  8.  0.  0.  9.  8.  0.]\n",
            " [ 0.  4. 11.  0.  1. 12.  7.  0.]\n",
            " [ 0.  2. 14.  5. 10. 12.  0.  0.]\n",
            " [ 0.  0.  6. 13. 10.  0.  0.  0.]]\n"
          ]
        }
      ]
    },
    {
      "cell_type": "code",
      "source": [
        "# importing the matplotlib libraries pyplot function\n",
        "import matplotlib.pyplot as plt\n",
        "# defining the function plot_multi\n",
        "\n",
        "def plot_multi(i):\n",
        "\tnplots = 16\n",
        "\tfig = plt.figure(figsize=(15, 15))\n",
        "\tfor j in range(nplots):\n",
        "\t\tplt.subplot(4, 4, j+1)\n",
        "\t\tplt.imshow(digits.images[i+j], cmap='binary')\n",
        "\t\tplt.title(digits.target[i+j])\n",
        "\t\tplt.axis('off')\n",
        "\t# printing the each digits in the dataset.\n",
        "\tplt.show()\n",
        "\n",
        "\tplot_multi(0)\n"
      ],
      "metadata": {
        "id": "BJbOAgW5S9KE"
      },
      "execution_count": null,
      "outputs": []
    },
    {
      "cell_type": "code",
      "source": [
        "# converting the 2 dimensional array to one dimensional array\n",
        "y = digits.target\n",
        "x = digits.images.reshape((len(digits.images), -1))\n",
        "\n",
        "# gives the shape of the data\n",
        "x.shape\n"
      ],
      "metadata": {
        "colab": {
          "base_uri": "https://localhost:8080/"
        },
        "id": "SE-_UlR5TAIu",
        "outputId": "3cada82e-1686-485b-abfb-8bdd2ac4de50"
      },
      "execution_count": null,
      "outputs": [
        {
          "output_type": "execute_result",
          "data": {
            "text/plain": [
              "(1797, 64)"
            ]
          },
          "metadata": {},
          "execution_count": 4
        }
      ]
    },
    {
      "cell_type": "code",
      "source": [
        "# printing the one-dimensional array's values\n",
        "x[0]\n"
      ],
      "metadata": {
        "colab": {
          "base_uri": "https://localhost:8080/"
        },
        "id": "NXjhBdGLTFb3",
        "outputId": "1cbde320-3b9b-412a-fd49-8c2545ba4f3f"
      },
      "execution_count": null,
      "outputs": [
        {
          "output_type": "execute_result",
          "data": {
            "text/plain": [
              "array([ 0.,  0.,  5., 13.,  9.,  1.,  0.,  0.,  0.,  0., 13., 15., 10.,\n",
              "       15.,  5.,  0.,  0.,  3., 15.,  2.,  0., 11.,  8.,  0.,  0.,  4.,\n",
              "       12.,  0.,  0.,  8.,  8.,  0.,  0.,  5.,  8.,  0.,  0.,  9.,  8.,\n",
              "        0.,  0.,  4., 11.,  0.,  1., 12.,  7.,  0.,  0.,  2., 14.,  5.,\n",
              "       10., 12.,  0.,  0.,  0.,  0.,  6., 13., 10.,  0.,  0.,  0.])"
            ]
          },
          "metadata": {},
          "execution_count": 5
        }
      ]
    },
    {
      "cell_type": "code",
      "source": [
        "# Very first 1000 photographs and\n",
        "# labels will be used in training.\n",
        "x_train = x[:1000]\n",
        "y_train = y[:1000]\n",
        "\n",
        "# The leftover dataset will be utilised to\n",
        "# test the network's performance later on.\n",
        "x_test = x[1000:]\n",
        "y_test = y[1000:]\n"
      ],
      "metadata": {
        "id": "GYZC-nEJTLhw"
      },
      "execution_count": null,
      "outputs": []
    },
    {
      "cell_type": "code",
      "source": [
        "# importing the MLP classifier from sklearn\n",
        "from sklearn.neural_network import MLPClassifier\n",
        "\n",
        "# calling the MLP classifier with specific parameters\n",
        "mlp = MLPClassifier(hidden_layer_sizes=(15,),\n",
        "\t\t\t\t\tactivation='logistic',\n",
        "\t\t\t\t\talpha=1e-4, solver='sgd',\n",
        "\t\t\t\t\ttol=1e-4, random_state=1,\n",
        "\t\t\t\t\tlearning_rate_init=.1,\n",
        "\t\t\t\t\tverbose=True)\n"
      ],
      "metadata": {
        "id": "vdmGfwT6TN85"
      },
      "execution_count": null,
      "outputs": []
    },
    {
      "cell_type": "code",
      "source": [
        "mlp.fit(x_train, y_train)\n"
      ],
      "metadata": {
        "colab": {
          "base_uri": "https://localhost:8080/",
          "height": 1000
        },
        "id": "YvyBpLJPTQNq",
        "outputId": "b7ad0e36-80c2-48db-8d65-aacd91acc6b4"
      },
      "execution_count": null,
      "outputs": [
        {
          "output_type": "stream",
          "name": "stdout",
          "text": [
            "Iteration 1, loss = 2.22958289\n",
            "Iteration 2, loss = 1.91207743\n",
            "Iteration 3, loss = 1.62507727\n",
            "Iteration 4, loss = 1.32649842\n",
            "Iteration 5, loss = 1.06100535\n",
            "Iteration 6, loss = 0.83995513\n",
            "Iteration 7, loss = 0.67806075\n",
            "Iteration 8, loss = 0.55175832\n",
            "Iteration 9, loss = 0.45840445\n",
            "Iteration 10, loss = 0.39149735\n",
            "Iteration 11, loss = 0.33676351\n",
            "Iteration 12, loss = 0.29059880\n",
            "Iteration 13, loss = 0.25437208\n",
            "Iteration 14, loss = 0.22838372\n",
            "Iteration 15, loss = 0.20200554\n",
            "Iteration 16, loss = 0.18186565\n",
            "Iteration 17, loss = 0.16461183\n",
            "Iteration 18, loss = 0.14990228\n",
            "Iteration 19, loss = 0.13892154\n",
            "Iteration 20, loss = 0.12833784\n",
            "Iteration 21, loss = 0.12138920\n",
            "Iteration 22, loss = 0.11407971\n",
            "Iteration 23, loss = 0.10677664\n",
            "Iteration 24, loss = 0.10037149\n",
            "Iteration 25, loss = 0.09593187\n",
            "Iteration 26, loss = 0.09250135\n",
            "Iteration 27, loss = 0.08676698\n",
            "Iteration 28, loss = 0.08356043\n",
            "Iteration 29, loss = 0.08209789\n",
            "Iteration 30, loss = 0.07649168\n",
            "Iteration 31, loss = 0.07410898\n",
            "Iteration 32, loss = 0.07126869\n",
            "Iteration 33, loss = 0.06926956\n",
            "Iteration 34, loss = 0.06578496\n",
            "Iteration 35, loss = 0.06374913\n",
            "Iteration 36, loss = 0.06175492\n",
            "Iteration 37, loss = 0.05975664\n",
            "Iteration 38, loss = 0.05764485\n",
            "Iteration 39, loss = 0.05623663\n",
            "Iteration 40, loss = 0.05420966\n",
            "Iteration 41, loss = 0.05413911\n",
            "Iteration 42, loss = 0.05256140\n",
            "Iteration 43, loss = 0.05020265\n",
            "Iteration 44, loss = 0.04902779\n",
            "Iteration 45, loss = 0.04788382\n",
            "Iteration 46, loss = 0.04655532\n",
            "Iteration 47, loss = 0.04586089\n",
            "Iteration 48, loss = 0.04451758\n",
            "Iteration 49, loss = 0.04341598\n",
            "Iteration 50, loss = 0.04238096\n",
            "Iteration 51, loss = 0.04162200\n",
            "Iteration 52, loss = 0.04076839\n",
            "Iteration 53, loss = 0.04003180\n",
            "Iteration 54, loss = 0.03907774\n",
            "Iteration 55, loss = 0.03815565\n",
            "Iteration 56, loss = 0.03791975\n",
            "Iteration 57, loss = 0.03706276\n",
            "Iteration 58, loss = 0.03617874\n",
            "Iteration 59, loss = 0.03593227\n",
            "Iteration 60, loss = 0.03504175\n",
            "Iteration 61, loss = 0.03441259\n",
            "Iteration 62, loss = 0.03397449\n",
            "Iteration 63, loss = 0.03326990\n",
            "Iteration 64, loss = 0.03305025\n",
            "Iteration 65, loss = 0.03244893\n",
            "Iteration 66, loss = 0.03191504\n",
            "Iteration 67, loss = 0.03132169\n",
            "Iteration 68, loss = 0.03079707\n",
            "Iteration 69, loss = 0.03044946\n",
            "Iteration 70, loss = 0.03005546\n",
            "Iteration 71, loss = 0.02960555\n",
            "Iteration 72, loss = 0.02912799\n",
            "Iteration 73, loss = 0.02859103\n",
            "Iteration 74, loss = 0.02825959\n",
            "Iteration 75, loss = 0.02788968\n",
            "Iteration 76, loss = 0.02748725\n",
            "Iteration 77, loss = 0.02721247\n",
            "Iteration 78, loss = 0.02686225\n",
            "Iteration 79, loss = 0.02635636\n",
            "Iteration 80, loss = 0.02607439\n",
            "Iteration 81, loss = 0.02577613\n",
            "Iteration 82, loss = 0.02553642\n",
            "Iteration 83, loss = 0.02518749\n",
            "Iteration 84, loss = 0.02484300\n",
            "Iteration 85, loss = 0.02455379\n",
            "Iteration 86, loss = 0.02432480\n",
            "Iteration 87, loss = 0.02398548\n",
            "Iteration 88, loss = 0.02376004\n",
            "Iteration 89, loss = 0.02341261\n",
            "Iteration 90, loss = 0.02318255\n",
            "Iteration 91, loss = 0.02296065\n",
            "Iteration 92, loss = 0.02274048\n",
            "Iteration 93, loss = 0.02241054\n",
            "Iteration 94, loss = 0.02208181\n",
            "Iteration 95, loss = 0.02190861\n",
            "Iteration 96, loss = 0.02174404\n",
            "Iteration 97, loss = 0.02156939\n",
            "Iteration 98, loss = 0.02119768\n",
            "Iteration 99, loss = 0.02101874\n",
            "Iteration 100, loss = 0.02078230\n",
            "Iteration 101, loss = 0.02061573\n",
            "Iteration 102, loss = 0.02039802\n",
            "Iteration 103, loss = 0.02017245\n",
            "Iteration 104, loss = 0.01997162\n",
            "Iteration 105, loss = 0.01989280\n",
            "Iteration 106, loss = 0.01963828\n",
            "Iteration 107, loss = 0.01941850\n",
            "Iteration 108, loss = 0.01933154\n",
            "Iteration 109, loss = 0.01911473\n",
            "Iteration 110, loss = 0.01905371\n",
            "Iteration 111, loss = 0.01876085\n",
            "Iteration 112, loss = 0.01860656\n",
            "Iteration 113, loss = 0.01848655\n",
            "Iteration 114, loss = 0.01834844\n",
            "Iteration 115, loss = 0.01818981\n",
            "Iteration 116, loss = 0.01798523\n",
            "Iteration 117, loss = 0.01783630\n",
            "Iteration 118, loss = 0.01771441\n",
            "Iteration 119, loss = 0.01749814\n",
            "Iteration 120, loss = 0.01738339\n",
            "Iteration 121, loss = 0.01726549\n",
            "Iteration 122, loss = 0.01709638\n",
            "Iteration 123, loss = 0.01698340\n",
            "Iteration 124, loss = 0.01684606\n",
            "Iteration 125, loss = 0.01667016\n",
            "Iteration 126, loss = 0.01654172\n",
            "Iteration 127, loss = 0.01641832\n",
            "Iteration 128, loss = 0.01630111\n",
            "Iteration 129, loss = 0.01623051\n",
            "Iteration 130, loss = 0.01612736\n",
            "Iteration 131, loss = 0.01590220\n",
            "Iteration 132, loss = 0.01582485\n",
            "Iteration 133, loss = 0.01571372\n",
            "Iteration 134, loss = 0.01560349\n",
            "Iteration 135, loss = 0.01557688\n",
            "Iteration 136, loss = 0.01534420\n",
            "Iteration 137, loss = 0.01527883\n",
            "Iteration 138, loss = 0.01517545\n",
            "Iteration 139, loss = 0.01503663\n",
            "Iteration 140, loss = 0.01501192\n",
            "Iteration 141, loss = 0.01482535\n",
            "Iteration 142, loss = 0.01471388\n",
            "Iteration 143, loss = 0.01463948\n",
            "Iteration 144, loss = 0.01454059\n",
            "Iteration 145, loss = 0.01441742\n",
            "Iteration 146, loss = 0.01431741\n",
            "Iteration 147, loss = 0.01428414\n",
            "Iteration 148, loss = 0.01416364\n",
            "Iteration 149, loss = 0.01406742\n",
            "Iteration 150, loss = 0.01402651\n",
            "Iteration 151, loss = 0.01389720\n",
            "Iteration 152, loss = 0.01381412\n",
            "Iteration 153, loss = 0.01371300\n",
            "Iteration 154, loss = 0.01362465\n",
            "Iteration 155, loss = 0.01357048\n",
            "Iteration 156, loss = 0.01348760\n",
            "Iteration 157, loss = 0.01339543\n",
            "Iteration 158, loss = 0.01331941\n",
            "Iteration 159, loss = 0.01320812\n",
            "Iteration 160, loss = 0.01315415\n",
            "Iteration 161, loss = 0.01308279\n",
            "Iteration 162, loss = 0.01302708\n",
            "Iteration 163, loss = 0.01290042\n",
            "Iteration 164, loss = 0.01289267\n",
            "Iteration 165, loss = 0.01277558\n",
            "Iteration 166, loss = 0.01277238\n",
            "Iteration 167, loss = 0.01261308\n",
            "Iteration 168, loss = 0.01260611\n",
            "Iteration 169, loss = 0.01248789\n",
            "Iteration 170, loss = 0.01239662\n",
            "Iteration 171, loss = 0.01231743\n",
            "Iteration 172, loss = 0.01227346\n",
            "Iteration 173, loss = 0.01223136\n",
            "Iteration 174, loss = 0.01217211\n",
            "Iteration 175, loss = 0.01208682\n",
            "Iteration 176, loss = 0.01204707\n",
            "Iteration 177, loss = 0.01200225\n",
            "Iteration 178, loss = 0.01188677\n",
            "Iteration 179, loss = 0.01184993\n",
            "Iteration 180, loss = 0.01175130\n",
            "Iteration 181, loss = 0.01171178\n",
            "Iteration 182, loss = 0.01166052\n",
            "Iteration 183, loss = 0.01163843\n",
            "Iteration 184, loss = 0.01154892\n",
            "Iteration 185, loss = 0.01147629\n",
            "Iteration 186, loss = 0.01142365\n",
            "Iteration 187, loss = 0.01136608\n",
            "Iteration 188, loss = 0.01128053\n",
            "Iteration 189, loss = 0.01128869\n",
            "Training loss did not improve more than tol=0.000100 for 10 consecutive epochs. Stopping.\n"
          ]
        },
        {
          "output_type": "execute_result",
          "data": {
            "text/plain": [
              "MLPClassifier(activation='logistic', hidden_layer_sizes=(15,),\n",
              "              learning_rate_init=0.1, random_state=1, solver='sgd',\n",
              "              verbose=True)"
            ],
            "text/html": [
              "<style>#sk-container-id-1 {color: black;background-color: white;}#sk-container-id-1 pre{padding: 0;}#sk-container-id-1 div.sk-toggleable {background-color: white;}#sk-container-id-1 label.sk-toggleable__label {cursor: pointer;display: block;width: 100%;margin-bottom: 0;padding: 0.3em;box-sizing: border-box;text-align: center;}#sk-container-id-1 label.sk-toggleable__label-arrow:before {content: \"▸\";float: left;margin-right: 0.25em;color: #696969;}#sk-container-id-1 label.sk-toggleable__label-arrow:hover:before {color: black;}#sk-container-id-1 div.sk-estimator:hover label.sk-toggleable__label-arrow:before {color: black;}#sk-container-id-1 div.sk-toggleable__content {max-height: 0;max-width: 0;overflow: hidden;text-align: left;background-color: #f0f8ff;}#sk-container-id-1 div.sk-toggleable__content pre {margin: 0.2em;color: black;border-radius: 0.25em;background-color: #f0f8ff;}#sk-container-id-1 input.sk-toggleable__control:checked~div.sk-toggleable__content {max-height: 200px;max-width: 100%;overflow: auto;}#sk-container-id-1 input.sk-toggleable__control:checked~label.sk-toggleable__label-arrow:before {content: \"▾\";}#sk-container-id-1 div.sk-estimator input.sk-toggleable__control:checked~label.sk-toggleable__label {background-color: #d4ebff;}#sk-container-id-1 div.sk-label input.sk-toggleable__control:checked~label.sk-toggleable__label {background-color: #d4ebff;}#sk-container-id-1 input.sk-hidden--visually {border: 0;clip: rect(1px 1px 1px 1px);clip: rect(1px, 1px, 1px, 1px);height: 1px;margin: -1px;overflow: hidden;padding: 0;position: absolute;width: 1px;}#sk-container-id-1 div.sk-estimator {font-family: monospace;background-color: #f0f8ff;border: 1px dotted black;border-radius: 0.25em;box-sizing: border-box;margin-bottom: 0.5em;}#sk-container-id-1 div.sk-estimator:hover {background-color: #d4ebff;}#sk-container-id-1 div.sk-parallel-item::after {content: \"\";width: 100%;border-bottom: 1px solid gray;flex-grow: 1;}#sk-container-id-1 div.sk-label:hover label.sk-toggleable__label {background-color: #d4ebff;}#sk-container-id-1 div.sk-serial::before {content: \"\";position: absolute;border-left: 1px solid gray;box-sizing: border-box;top: 0;bottom: 0;left: 50%;z-index: 0;}#sk-container-id-1 div.sk-serial {display: flex;flex-direction: column;align-items: center;background-color: white;padding-right: 0.2em;padding-left: 0.2em;position: relative;}#sk-container-id-1 div.sk-item {position: relative;z-index: 1;}#sk-container-id-1 div.sk-parallel {display: flex;align-items: stretch;justify-content: center;background-color: white;position: relative;}#sk-container-id-1 div.sk-item::before, #sk-container-id-1 div.sk-parallel-item::before {content: \"\";position: absolute;border-left: 1px solid gray;box-sizing: border-box;top: 0;bottom: 0;left: 50%;z-index: -1;}#sk-container-id-1 div.sk-parallel-item {display: flex;flex-direction: column;z-index: 1;position: relative;background-color: white;}#sk-container-id-1 div.sk-parallel-item:first-child::after {align-self: flex-end;width: 50%;}#sk-container-id-1 div.sk-parallel-item:last-child::after {align-self: flex-start;width: 50%;}#sk-container-id-1 div.sk-parallel-item:only-child::after {width: 0;}#sk-container-id-1 div.sk-dashed-wrapped {border: 1px dashed gray;margin: 0 0.4em 0.5em 0.4em;box-sizing: border-box;padding-bottom: 0.4em;background-color: white;}#sk-container-id-1 div.sk-label label {font-family: monospace;font-weight: bold;display: inline-block;line-height: 1.2em;}#sk-container-id-1 div.sk-label-container {text-align: center;}#sk-container-id-1 div.sk-container {/* jupyter's `normalize.less` sets `[hidden] { display: none; }` but bootstrap.min.css set `[hidden] { display: none !important; }` so we also need the `!important` here to be able to override the default hidden behavior on the sphinx rendered scikit-learn.org. See: https://github.com/scikit-learn/scikit-learn/issues/21755 */display: inline-block !important;position: relative;}#sk-container-id-1 div.sk-text-repr-fallback {display: none;}</style><div id=\"sk-container-id-1\" class=\"sk-top-container\"><div class=\"sk-text-repr-fallback\"><pre>MLPClassifier(activation=&#x27;logistic&#x27;, hidden_layer_sizes=(15,),\n",
              "              learning_rate_init=0.1, random_state=1, solver=&#x27;sgd&#x27;,\n",
              "              verbose=True)</pre><b>In a Jupyter environment, please rerun this cell to show the HTML representation or trust the notebook. <br />On GitHub, the HTML representation is unable to render, please try loading this page with nbviewer.org.</b></div><div class=\"sk-container\" hidden><div class=\"sk-item\"><div class=\"sk-estimator sk-toggleable\"><input class=\"sk-toggleable__control sk-hidden--visually\" id=\"sk-estimator-id-1\" type=\"checkbox\" checked><label for=\"sk-estimator-id-1\" class=\"sk-toggleable__label sk-toggleable__label-arrow\">MLPClassifier</label><div class=\"sk-toggleable__content\"><pre>MLPClassifier(activation=&#x27;logistic&#x27;, hidden_layer_sizes=(15,),\n",
              "              learning_rate_init=0.1, random_state=1, solver=&#x27;sgd&#x27;,\n",
              "              verbose=True)</pre></div></div></div></div></div>"
            ]
          },
          "metadata": {},
          "execution_count": 8
        }
      ]
    },
    {
      "cell_type": "code",
      "source": [
        "fig, axes = plt.subplots(1, 1)\n",
        "axes.plot(mlp.loss_curve_, 'o-')\n",
        "axes.set_xlabel(\"number of iteration\")\n",
        "axes.set_ylabel(\"loss\")\n",
        "plt.show()\n"
      ],
      "metadata": {
        "colab": {
          "base_uri": "https://localhost:8080/",
          "height": 449
        },
        "id": "IoqErGW_TTJq",
        "outputId": "a4b65676-e533-4186-ecae-0b562d5fd4fb"
      },
      "execution_count": null,
      "outputs": [
        {
          "output_type": "display_data",
          "data": {
            "text/plain": [
              "<Figure size 640x480 with 1 Axes>"
            ],
            "image/png": "[encoded data removed]"
          },
          "metadata": {}
        }
      ]
    },
    {
      "cell_type": "code",
      "source": [
        "predictions = mlp.predict(x_test)\n",
        "predictions[:50]\n"
      ],
      "metadata": {
        "colab": {
          "base_uri": "https://localhost:8080/"
        },
        "id": "CEQgCg6wTX-n",
        "outputId": "e05d9490-88d0-47cf-cab0-6ca7024d113b"
      },
      "execution_count": null,
      "outputs": [
        {
          "output_type": "execute_result",
          "data": {
            "text/plain": [
              "array([1, 4, 0, 5, 3, 6, 9, 6, 1, 7, 5, 4, 4, 7, 2, 8, 2, 2, 5, 7, 9, 5,\n",
              "       4, 4, 9, 0, 8, 9, 8, 0, 1, 2, 3, 4, 5, 6, 7, 8, 3, 0, 1, 2, 3, 4,\n",
              "       5, 6, 7, 8, 5, 0])"
            ]
          },
          "metadata": {},
          "execution_count": 10
        }
      ]
    },
    {
      "cell_type": "code",
      "source": [
        "y_test[:50]\n"
      ],
      "metadata": {
        "colab": {
          "base_uri": "https://localhost:8080/"
        },
        "id": "spmMPzGoTbV2",
        "outputId": "c1075d6d-e30c-4969-8d2f-cac98f3ef7a9"
      },
      "execution_count": null,
      "outputs": [
        {
          "output_type": "execute_result",
          "data": {
            "text/plain": [
              "array([1, 4, 0, 5, 3, 6, 9, 6, 1, 7, 5, 4, 4, 7, 2, 8, 2, 2, 5, 7, 9, 5,\n",
              "       4, 4, 9, 0, 8, 9, 8, 0, 1, 2, 3, 4, 5, 6, 7, 8, 9, 0, 1, 2, 3, 4,\n",
              "       5, 6, 7, 8, 9, 0])"
            ]
          },
          "metadata": {},
          "execution_count": 11
        }
      ]
    },
    {
      "cell_type": "code",
      "source": [
        "# importing the accuracy_score from the sklearn\n",
        "from sklearn.metrics import accuracy_score\n",
        "\n",
        "# calculating the accuracy with y_test and predictions\n",
        "accuracy_score(y_test, predictions)\n"
      ],
      "metadata": {
        "colab": {
          "base_uri": "https://localhost:8080/"
        },
        "id": "B64GVhIvTdbL",
        "outputId": "450daca3-9b44-4c65-8f3c-7ad307bbb03b"
      },
      "execution_count": null,
      "outputs": [
        {
          "output_type": "execute_result",
          "data": {
            "text/plain": [
              "0.9146800501882058"
            ]
          },
          "metadata": {},
          "execution_count": 12
        }
      ]
    },
    {
      "cell_type": "code",
      "source": [
        "pip install numpy pandas matplotlib scikit-learn tensorflow"
      ],
      "metadata": {
        "id": "DJgbLrYqTfQB",
        "colab": {
          "base_uri": "https://localhost:8080/"
        },
        "outputId": "314ff8e6-66c7-44cc-98e2-45108c99ac94"
      },
      "execution_count": 1,
      "outputs": [
        {
          "output_type": "stream",
          "name": "stdout",
          "text": [
            "Requirement already satisfied: numpy in /usr/local/lib/python3.10/dist-packages (1.25.2)\n",
            "Requirement already satisfied: pandas in /usr/local/lib/python3.10/dist-packages (2.0.3)\n",
            "Requirement already satisfied: matplotlib in /usr/local/lib/python3.10/dist-packages (3.7.1)\n",
            "Requirement already satisfied: scikit-learn in /usr/local/lib/python3.10/dist-packages (1.2.2)\n",
            "Requirement already satisfied: tensorflow in /usr/local/lib/python3.10/dist-packages (2.15.0)\n",
            "Requirement already satisfied: python-dateutil>=2.8.2 in /usr/local/lib/python3.10/dist-packages (from pandas) (2.8.2)\n",
            "Requirement already satisfied: pytz>=2020.1 in /usr/local/lib/python3.10/dist-packages (from pandas) (2023.4)\n",
            "Requirement already satisfied: tzdata>=2022.1 in /usr/local/lib/python3.10/dist-packages (from pandas) (2024.1)\n",
            "Requirement already satisfied: contourpy>=1.0.1 in /usr/local/lib/python3.10/dist-packages (from matplotlib) (1.2.1)\n",
            "Requirement already satisfied: cycler>=0.10 in /usr/local/lib/python3.10/dist-packages (from matplotlib) (0.12.1)\n",
            "Requirement already satisfied: fonttools>=4.22.0 in /usr/local/lib/python3.10/dist-packages (from matplotlib) (4.51.0)\n",
            "Requirement already satisfied: kiwisolver>=1.0.1 in /usr/local/lib/python3.10/dist-packages (from matplotlib) (1.4.5)\n",
            "Requirement already satisfied: packaging>=20.0 in /usr/local/lib/python3.10/dist-packages (from matplotlib) (24.0)\n",
            "Requirement already satisfied: pillow>=6.2.0 in /usr/local/lib/python3.10/dist-packages (from matplotlib) (9.4.0)\n",
            "Requirement already satisfied: pyparsing>=2.3.1 in /usr/local/lib/python3.10/dist-packages (from matplotlib) (3.1.2)\n",
            "Requirement already satisfied: scipy>=1.3.2 in /usr/local/lib/python3.10/dist-packages (from scikit-learn) (1.11.4)\n",
            "Requirement already satisfied: joblib>=1.1.1 in /usr/local/lib/python3.10/dist-packages (from scikit-learn) (1.4.2)\n",
            "Requirement already satisfied: threadpoolctl>=2.0.0 in /usr/local/lib/python3.10/dist-packages (from scikit-learn) (3.5.0)\n",
            "Requirement already satisfied: absl-py>=1.0.0 in /usr/local/lib/python3.10/dist-packages (from tensorflow) (1.4.0)\n",
            "Requirement already satisfied: astunparse>=1.6.0 in /usr/local/lib/python3.10/dist-packages (from tensorflow) (1.6.3)\n",
            "Requirement already satisfied: flatbuffers>=23.5.26 in /usr/local/lib/python3.10/dist-packages (from tensorflow) (24.3.25)\n",
            "Requirement already satisfied: gast!=0.5.0,!=0.5.1,!=0.5.2,>=0.2.1 in /usr/local/lib/python3.10/dist-packages (from tensorflow) (0.5.4)\n",
            "Requirement already satisfied: google-pasta>=0.1.1 in /usr/local/lib/python3.10/dist-packages (from tensorflow) (0.2.0)\n",
            "Requirement already satisfied: h5py>=2.9.0 in /usr/local/lib/python3.10/dist-packages (from tensorflow) (3.9.0)\n",
            "Requirement already satisfied: libclang>=13.0.0 in /usr/local/lib/python3.10/dist-packages (from tensorflow) (18.1.1)\n",
            "Requirement already satisfied: ml-dtypes~=0.2.0 in /usr/local/lib/python3.10/dist-packages (from tensorflow) (0.2.0)\n",
            "Requirement already satisfied: opt-einsum>=2.3.2 in /usr/local/lib/python3.10/dist-packages (from tensorflow) (3.3.0)\n",
            "Requirement already satisfied: protobuf!=4.21.0,!=4.21.1,!=4.21.2,!=4.21.3,!=4.21.4,!=4.21.5,<5.0.0dev,>=3.20.3 in /usr/local/lib/python3.10/dist-packages (from tensorflow) (3.20.3)\n",
            "Requirement already satisfied: setuptools in /usr/local/lib/python3.10/dist-packages (from tensorflow) (67.7.2)\n",
            "Requirement already satisfied: six>=1.12.0 in /usr/local/lib/python3.10/dist-packages (from tensorflow) (1.16.0)\n",
            "Requirement already satisfied: termcolor>=1.1.0 in /usr/local/lib/python3.10/dist-packages (from tensorflow) (2.4.0)\n",
            "Requirement already satisfied: typing-extensions>=3.6.6 in /usr/local/lib/python3.10/dist-packages (from tensorflow) (4.11.0)\n",
            "Requirement already satisfied: wrapt<1.15,>=1.11.0 in /usr/local/lib/python3.10/dist-packages (from tensorflow) (1.14.1)\n",
            "Requirement already satisfied: tensorflow-io-gcs-filesystem>=0.23.1 in /usr/local/lib/python3.10/dist-packages (from tensorflow) (0.37.0)\n",
            "Requirement already satisfied: grpcio<2.0,>=1.24.3 in /usr/local/lib/python3.10/dist-packages (from tensorflow) (1.64.0)\n",
            "Requirement already satisfied: tensorboard<2.16,>=2.15 in /usr/local/lib/python3.10/dist-packages (from tensorflow) (2.15.2)\n",
            "Requirement already satisfied: tensorflow-estimator<2.16,>=2.15.0 in /usr/local/lib/python3.10/dist-packages (from tensorflow) (2.15.0)\n",
            "Requirement already satisfied: keras<2.16,>=2.15.0 in /usr/local/lib/python3.10/dist-packages (from tensorflow) (2.15.0)\n",
            "Requirement already satisfied: wheel<1.0,>=0.23.0 in /usr/local/lib/python3.10/dist-packages (from astunparse>=1.6.0->tensorflow) (0.43.0)\n",
            "Requirement already satisfied: google-auth<3,>=1.6.3 in /usr/local/lib/python3.10/dist-packages (from tensorboard<2.16,>=2.15->tensorflow) (2.27.0)\n",
            "Requirement already satisfied: google-auth-oauthlib<2,>=0.5 in /usr/local/lib/python3.10/dist-packages (from tensorboard<2.16,>=2.15->tensorflow) (1.2.0)\n",
            "Requirement already satisfied: markdown>=2.6.8 in /usr/local/lib/python3.10/dist-packages (from tensorboard<2.16,>=2.15->tensorflow) (3.6)\n",
            "Requirement already satisfied: requests<3,>=2.21.0 in /usr/local/lib/python3.10/dist-packages (from tensorboard<2.16,>=2.15->tensorflow) (2.31.0)\n",
            "Requirement already satisfied: tensorboard-data-server<0.8.0,>=0.7.0 in /usr/local/lib/python3.10/dist-packages (from tensorboard<2.16,>=2.15->tensorflow) (0.7.2)\n",
            "Requirement already satisfied: werkzeug>=1.0.1 in /usr/local/lib/python3.10/dist-packages (from tensorboard<2.16,>=2.15->tensorflow) (3.0.3)\n",
            "Requirement already satisfied: cachetools<6.0,>=2.0.0 in /usr/local/lib/python3.10/dist-packages (from google-auth<3,>=1.6.3->tensorboard<2.16,>=2.15->tensorflow) (5.3.3)\n",
            "Requirement already satisfied: pyasn1-modules>=0.2.1 in /usr/local/lib/python3.10/dist-packages (from google-auth<3,>=1.6.3->tensorboard<2.16,>=2.15->tensorflow) (0.4.0)\n",
            "Requirement already satisfied: rsa<5,>=3.1.4 in /usr/local/lib/python3.10/dist-packages (from google-auth<3,>=1.6.3->tensorboard<2.16,>=2.15->tensorflow) (4.9)\n",
            "Requirement already satisfied: requests-oauthlib>=0.7.0 in /usr/local/lib/python3.10/dist-packages (from google-auth-oauthlib<2,>=0.5->tensorboard<2.16,>=2.15->tensorflow) (1.3.1)\n",
            "Requirement already satisfied: charset-normalizer<4,>=2 in /usr/local/lib/python3.10/dist-packages (from requests<3,>=2.21.0->tensorboard<2.16,>=2.15->tensorflow) (3.3.2)\n",
            "Requirement already satisfied: idna<4,>=2.5 in /usr/local/lib/python3.10/dist-packages (from requests<3,>=2.21.0->tensorboard<2.16,>=2.15->tensorflow) (3.7)\n",
            "Requirement already satisfied: urllib3<3,>=1.21.1 in /usr/local/lib/python3.10/dist-packages (from requests<3,>=2.21.0->tensorboard<2.16,>=2.15->tensorflow) (2.0.7)\n",
            "Requirement already satisfied: certifi>=2017.4.17 in /usr/local/lib/python3.10/dist-packages (from requests<3,>=2.21.0->tensorboard<2.16,>=2.15->tensorflow) (2024.2.2)\n",
            "Requirement already satisfied: MarkupSafe>=2.1.1 in /usr/local/lib/python3.10/dist-packages (from werkzeug>=1.0.1->tensorboard<2.16,>=2.15->tensorflow) (2.1.5)\n",
            "Requirement already satisfied: pyasn1<0.7.0,>=0.4.6 in /usr/local/lib/python3.10/dist-packages (from pyasn1-modules>=0.2.1->google-auth<3,>=1.6.3->tensorboard<2.16,>=2.15->tensorflow) (0.6.0)\n",
            "Requirement already satisfied: oauthlib>=3.0.0 in /usr/local/lib/python3.10/dist-packages (from requests-oauthlib>=0.7.0->google-auth-oauthlib<2,>=0.5->tensorboard<2.16,>=2.15->tensorflow) (3.2.2)\n"
          ]
        }
      ]
    },
    {
      "cell_type": "markdown",
      "source": [
        "Loading the MNIST dataset:"
      ],
      "metadata": {
        "id": "OF6EJG0IWe9g"
      }
    },
    {
      "cell_type": "code",
      "source": [
        "import numpy as np\n",
        "import matplotlib.pyplot as plt\n",
        "from tensorflow.keras.datasets import mnist\n",
        "from tensorflow.keras.utils import to_categorical\n",
        "\n",
        "# Load the dataset\n",
        "(x_train, y_train), (x_test, y_test) = mnist.load_data()\n",
        "\n",
        "# Normalize the data\n",
        "x_train = x_train.astype('float32') / 255\n",
        "x_test = x_test.astype('float32') / 255\n",
        "\n",
        "# Reshape the data to fit the model\n",
        "x_train = x_train.reshape((x_train.shape[0], 28, 28, 1))\n",
        "x_test = x_test.reshape((x_test.shape[0], 28, 28, 1))\n",
        "\n",
        "# One-hot encode the labels\n",
        "y_train = to_categorical(y_train, 10)\n",
        "y_test = to_categorical(y_test, 10)\n"
      ],
      "metadata": {
        "id": "eUxcG5wKWZt0"
      },
      "execution_count": 3,
      "outputs": []
    },
    {
      "cell_type": "markdown",
      "source": [
        "Building the Model:"
      ],
      "metadata": {
        "id": "LkwLNbTcWidB"
      }
    },
    {
      "cell_type": "code",
      "source": [
        "from tensorflow.keras.models import Sequential\n",
        "from tensorflow.keras.layers import Conv2D, MaxPooling2D, Flatten, Dense\n",
        "\n",
        "model = Sequential()\n",
        "\n",
        "# Add convolutional layer\n",
        "model.add(Conv2D(32, kernel_size=(3, 3), activation='relu', input_shape=(28, 28, 1)))\n",
        "model.add(MaxPooling2D(pool_size=(2, 2)))\n",
        "model.add(Conv2D(64, kernel_size=(3, 3), activation='relu'))\n",
        "model.add(MaxPooling2D(pool_size=(2, 2)))\n",
        "model.add(Conv2D(128, kernel_size=(3, 3), activation='relu'))\n",
        "\n",
        "# Flatten the output\n",
        "model.add(Flatten())\n",
        "\n",
        "# Add a dense layer\n",
        "model.add(Dense(128, activation='relu'))\n",
        "\n",
        "# Add output layer\n",
        "model.add(Dense(10, activation='softmax'))\n"
      ],
      "metadata": {
        "id": "HgSJJVHTWh35"
      },
      "execution_count": 4,
      "outputs": []
    },
    {
      "cell_type": "markdown",
      "source": [
        "Compiling the Model:"
      ],
      "metadata": {
        "id": "aMQqyzIzWtka"
      }
    },
    {
      "cell_type": "code",
      "source": [
        "model.compile(optimizer='adam', loss='categorical_crossentropy', metrics=['accuracy'])\n"
      ],
      "metadata": {
        "id": "EFcOupOjWqzC"
      },
      "execution_count": 5,
      "outputs": []
    },
    {
      "cell_type": "markdown",
      "source": [
        "Training the model"
      ],
      "metadata": {
        "id": "urtFKsiQWwzs"
      }
    },
    {
      "cell_type": "code",
      "source": [
        "model.fit(x_train, y_train, epochs=10, batch_size=200, validation_split=0.2)\n"
      ],
      "metadata": {
        "id": "vp6mhz5PWwLr",
        "outputId": "2ad9e23f-52c4-4e0b-d80f-4b16d468e8d1",
        "colab": {
          "base_uri": "https://localhost:8080/"
        }
      },
      "execution_count": 6,
      "outputs": [
        {
          "output_type": "stream",
          "name": "stdout",
          "text": [
            "Epoch 1/10\n",
            "240/240 [==============================] - 58s 231ms/step - loss: 0.3052 - accuracy: 0.9059 - val_loss: 0.0810 - val_accuracy: 0.9758\n",
            "Epoch 2/10\n",
            "240/240 [==============================] - 44s 184ms/step - loss: 0.0670 - accuracy: 0.9791 - val_loss: 0.0550 - val_accuracy: 0.9836\n",
            "Epoch 3/10\n",
            "240/240 [==============================] - 42s 173ms/step - loss: 0.0436 - accuracy: 0.9860 - val_loss: 0.0424 - val_accuracy: 0.9868\n",
            "Epoch 4/10\n",
            "240/240 [==============================] - 42s 175ms/step - loss: 0.0345 - accuracy: 0.9886 - val_loss: 0.0414 - val_accuracy: 0.9882\n",
            "Epoch 5/10\n",
            "240/240 [==============================] - 42s 174ms/step - loss: 0.0256 - accuracy: 0.9919 - val_loss: 0.0401 - val_accuracy: 0.9883\n",
            "Epoch 6/10\n",
            "240/240 [==============================] - 42s 175ms/step - loss: 0.0230 - accuracy: 0.9924 - val_loss: 0.0359 - val_accuracy: 0.9893\n",
            "Epoch 7/10\n",
            "240/240 [==============================] - 42s 176ms/step - loss: 0.0173 - accuracy: 0.9945 - val_loss: 0.0366 - val_accuracy: 0.9893\n",
            "Epoch 8/10\n",
            "240/240 [==============================] - 42s 174ms/step - loss: 0.0146 - accuracy: 0.9953 - val_loss: 0.0330 - val_accuracy: 0.9898\n",
            "Epoch 9/10\n",
            "240/240 [==============================] - 42s 177ms/step - loss: 0.0118 - accuracy: 0.9965 - val_loss: 0.0404 - val_accuracy: 0.9886\n",
            "Epoch 10/10\n",
            "240/240 [==============================] - 42s 177ms/step - loss: 0.0109 - accuracy: 0.9963 - val_loss: 0.0459 - val_accuracy: 0.9876\n"
          ]
        },
        {
          "output_type": "execute_result",
          "data": {
            "text/plain": [
              "<keras.src.callbacks.History at 0x7b627ec19cf0>"
            ]
          },
          "metadata": {},
          "execution_count": 6
        }
      ]
    },
    {
      "cell_type": "markdown",
      "source": [
        "Evaluating the Model:"
      ],
      "metadata": {
        "id": "gT9Gt13NW69N"
      }
    },
    {
      "cell_type": "code",
      "source": [
        "test_loss, test_acc = model.evaluate(x_test, y_test)\n",
        "print(f'Test accuracy: {test_acc}')\n"
      ],
      "metadata": {
        "id": "S7-38EwqW3tN",
        "outputId": "150b5133-7a77-4967-98fa-3ddc67e57345",
        "colab": {
          "base_uri": "https://localhost:8080/"
        }
      },
      "execution_count": 7,
      "outputs": [
        {
          "output_type": "stream",
          "name": "stdout",
          "text": [
            "313/313 [==============================] - 4s 11ms/step - loss: 0.0445 - accuracy: 0.9879\n",
            "Test accuracy: 0.9879000186920166\n"
          ]
        }
      ]
    },
    {
      "cell_type": "markdown",
      "source": [
        "Making Predictions:"
      ],
      "metadata": {
        "id": "iT8doc_nXAqK"
      }
    },
    {
      "cell_type": "code",
      "source": [
        "# Predicting on the test set\n",
        "predictions = model.predict(x_test)\n",
        "\n",
        "# Show some predictions\n",
        "for i in range(5):\n",
        "    plt.imshow(x_test[i].reshape(28, 28), cmap='gray')\n",
        "    plt.title(f'Prediction: {np.argmax(predictions[i])}')\n",
        "    plt.show()\n"
      ],
      "metadata": {
        "id": "ZLi__oxqXACo",
        "outputId": "e09c0a59-85a0-4635-a248-beab7767f6eb",
        "colab": {
          "base_uri": "https://localhost:8080/",
          "height": 1000
        }
      },
      "execution_count": 8,
      "outputs": [
        {
          "output_type": "stream",
          "name": "stdout",
          "text": [
            "313/313 [==============================] - 5s 14ms/step\n"
          ]
        },
        {
          "output_type": "display_data",
          "data": {
            "text/plain": [
              "<Figure size 640x480 with 1 Axes>"
            ],
            "image/png": "[encoded data removed]"
          },
          "metadata": {}
        },
        {
          "output_type": "display_data",
          "data": {
            "text/plain": [
              "<Figure size 640x480 with 1 Axes>"
            ],
            "image/png": "[encoded data removed]"
          },
          "metadata": {}
        },
        {
          "output_type": "display_data",
          "data": {
            "text/plain": [
              "<Figure size 640x480 with 1 Axes>"
            ],
            "image/png": "[encoded data removed]"
          },
          "metadata": {}
        },
        {
          "output_type": "display_data",
          "data": {
            "text/plain": [
              "<Figure size 640x480 with 1 Axes>"
            ],
            "image/png": "[encoded data removed]"
          },
          "metadata": {}
        },
        {
          "output_type": "display_data",
          "data": {
            "text/plain": [
              "<Figure size 640x480 with 1 Axes>"
            ],
            "image/png": "[encoded data removed]"
          },
          "metadata": {}
        }
      ]
    },
    {
      "cell_type": "code",
      "source": [],
      "metadata": {
        "id": "lH_SIeJzXGvJ"
      },
      "execution_count": null,
      "outputs": []
    }
  ]
}